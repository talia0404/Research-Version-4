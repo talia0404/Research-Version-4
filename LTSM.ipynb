{
 "cells": [
  {
   "cell_type": "code",
   "execution_count": 9,
   "metadata": {},
   "outputs": [],
   "source": [
    "import numpy as np\n",
    "import pandas as pd\n",
    "from sklearn.model_selection import train_test_split\n",
    "from sklearn.preprocessing import MinMaxScaler, LabelEncoder\n",
    "from tensorflow.keras.models import Sequential\n",
    "from tensorflow.keras.layers import LSTM, Dense, Dropout\n",
    "from tensorflow.keras.utils import to_categorical\n",
    "from sklearn.metrics import accuracy_score, confusion_matrix, precision_score, recall_score,f1_score,auc,roc_curve,roc_auc_score, ConfusionMatrixDisplay\n",
    "from sklearn.metrics import classification_report\n"
   ]
  },
  {
   "cell_type": "code",
   "execution_count": 10,
   "metadata": {},
   "outputs": [
    {
     "data": {
      "text/html": [
       "<div>\n",
       "<style scoped>\n",
       "    .dataframe tbody tr th:only-of-type {\n",
       "        vertical-align: middle;\n",
       "    }\n",
       "\n",
       "    .dataframe tbody tr th {\n",
       "        vertical-align: top;\n",
       "    }\n",
       "\n",
       "    .dataframe thead th {\n",
       "        text-align: right;\n",
       "    }\n",
       "</style>\n",
       "<table border=\"1\" class=\"dataframe\">\n",
       "  <thead>\n",
       "    <tr style=\"text-align: right;\">\n",
       "      <th></th>\n",
       "      <th>Unnamed: 0</th>\n",
       "      <th>Source Port</th>\n",
       "      <th>Destination Port</th>\n",
       "      <th>Protocol</th>\n",
       "      <th>Flow Duration</th>\n",
       "      <th>Total Fwd Packets</th>\n",
       "      <th>Total Backward Packets</th>\n",
       "      <th>Total Length of Fwd Packets</th>\n",
       "      <th>Total Length of Bwd Packets</th>\n",
       "      <th>Fwd Packet Length Max</th>\n",
       "      <th>...</th>\n",
       "      <th>Dst_Port_Category</th>\n",
       "      <th>Pkt_Len_Var</th>\n",
       "      <th>Pkt_Len_Median</th>\n",
       "      <th>Fwd_Entropy</th>\n",
       "      <th>Flag_Combination</th>\n",
       "      <th>Source_IP_Private</th>\n",
       "      <th>Destination_IP_Private</th>\n",
       "      <th>Src_IP_Frequency</th>\n",
       "      <th>Dst_IP_Frequency</th>\n",
       "      <th>Is_Inbound</th>\n",
       "    </tr>\n",
       "  </thead>\n",
       "  <tbody>\n",
       "    <tr>\n",
       "      <th>0</th>\n",
       "      <td>0</td>\n",
       "      <td>51023</td>\n",
       "      <td>443</td>\n",
       "      <td>1</td>\n",
       "      <td>151054</td>\n",
       "      <td>6</td>\n",
       "      <td>8</td>\n",
       "      <td>1076.0</td>\n",
       "      <td>4575.0</td>\n",
       "      <td>821.0</td>\n",
       "      <td>...</td>\n",
       "      <td>2</td>\n",
       "      <td>178204.5</td>\n",
       "      <td>1119.5</td>\n",
       "      <td>2.0</td>\n",
       "      <td>1</td>\n",
       "      <td>1</td>\n",
       "      <td>0</td>\n",
       "      <td>177977</td>\n",
       "      <td>344</td>\n",
       "      <td>0</td>\n",
       "    </tr>\n",
       "    <tr>\n",
       "      <th>1</th>\n",
       "      <td>1</td>\n",
       "      <td>51023</td>\n",
       "      <td>443</td>\n",
       "      <td>1</td>\n",
       "      <td>349</td>\n",
       "      <td>2</td>\n",
       "      <td>0</td>\n",
       "      <td>23.0</td>\n",
       "      <td>0.0</td>\n",
       "      <td>23.0</td>\n",
       "      <td>...</td>\n",
       "      <td>2</td>\n",
       "      <td>264.5</td>\n",
       "      <td>11.5</td>\n",
       "      <td>1.0</td>\n",
       "      <td>2</td>\n",
       "      <td>1</td>\n",
       "      <td>0</td>\n",
       "      <td>177977</td>\n",
       "      <td>344</td>\n",
       "      <td>0</td>\n",
       "    </tr>\n",
       "    <tr>\n",
       "      <th>2</th>\n",
       "      <td>2</td>\n",
       "      <td>34259</td>\n",
       "      <td>443</td>\n",
       "      <td>1</td>\n",
       "      <td>119</td>\n",
       "      <td>2</td>\n",
       "      <td>0</td>\n",
       "      <td>23.0</td>\n",
       "      <td>0.0</td>\n",
       "      <td>23.0</td>\n",
       "      <td>...</td>\n",
       "      <td>2</td>\n",
       "      <td>264.5</td>\n",
       "      <td>11.5</td>\n",
       "      <td>1.0</td>\n",
       "      <td>2</td>\n",
       "      <td>1</td>\n",
       "      <td>0</td>\n",
       "      <td>177977</td>\n",
       "      <td>882</td>\n",
       "      <td>0</td>\n",
       "    </tr>\n",
       "    <tr>\n",
       "      <th>3</th>\n",
       "      <td>3</td>\n",
       "      <td>55509</td>\n",
       "      <td>443</td>\n",
       "      <td>1</td>\n",
       "      <td>37055</td>\n",
       "      <td>1</td>\n",
       "      <td>1</td>\n",
       "      <td>31.0</td>\n",
       "      <td>0.0</td>\n",
       "      <td>31.0</td>\n",
       "      <td>...</td>\n",
       "      <td>2</td>\n",
       "      <td>480.5</td>\n",
       "      <td>15.5</td>\n",
       "      <td>1.0</td>\n",
       "      <td>2</td>\n",
       "      <td>1</td>\n",
       "      <td>0</td>\n",
       "      <td>177977</td>\n",
       "      <td>575</td>\n",
       "      <td>0</td>\n",
       "    </tr>\n",
       "    <tr>\n",
       "      <th>4</th>\n",
       "      <td>4</td>\n",
       "      <td>44852</td>\n",
       "      <td>443</td>\n",
       "      <td>1</td>\n",
       "      <td>178727</td>\n",
       "      <td>6</td>\n",
       "      <td>7</td>\n",
       "      <td>1313.0</td>\n",
       "      <td>307.0</td>\n",
       "      <td>753.0</td>\n",
       "      <td>...</td>\n",
       "      <td>2</td>\n",
       "      <td>171112.5</td>\n",
       "      <td>460.5</td>\n",
       "      <td>1.0</td>\n",
       "      <td>1</td>\n",
       "      <td>1</td>\n",
       "      <td>0</td>\n",
       "      <td>177977</td>\n",
       "      <td>344</td>\n",
       "      <td>0</td>\n",
       "    </tr>\n",
       "  </tbody>\n",
       "</table>\n",
       "<p>5 rows × 97 columns</p>\n",
       "</div>"
      ],
      "text/plain": [
       "   Unnamed: 0  Source Port  Destination Port  Protocol  Flow Duration  \\\n",
       "0           0        51023               443         1         151054   \n",
       "1           1        51023               443         1            349   \n",
       "2           2        34259               443         1            119   \n",
       "3           3        55509               443         1          37055   \n",
       "4           4        44852               443         1         178727   \n",
       "\n",
       "   Total Fwd Packets  Total Backward Packets  Total Length of Fwd Packets  \\\n",
       "0                  6                       8                       1076.0   \n",
       "1                  2                       0                         23.0   \n",
       "2                  2                       0                         23.0   \n",
       "3                  1                       1                         31.0   \n",
       "4                  6                       7                       1313.0   \n",
       "\n",
       "   Total Length of Bwd Packets  Fwd Packet Length Max  ...  Dst_Port_Category  \\\n",
       "0                       4575.0                  821.0  ...                  2   \n",
       "1                          0.0                   23.0  ...                  2   \n",
       "2                          0.0                   23.0  ...                  2   \n",
       "3                          0.0                   31.0  ...                  2   \n",
       "4                        307.0                  753.0  ...                  2   \n",
       "\n",
       "   Pkt_Len_Var  Pkt_Len_Median  Fwd_Entropy  Flag_Combination  \\\n",
       "0     178204.5          1119.5          2.0                 1   \n",
       "1        264.5            11.5          1.0                 2   \n",
       "2        264.5            11.5          1.0                 2   \n",
       "3        480.5            15.5          1.0                 2   \n",
       "4     171112.5           460.5          1.0                 1   \n",
       "\n",
       "   Source_IP_Private  Destination_IP_Private  Src_IP_Frequency  \\\n",
       "0                  1                       0            177977   \n",
       "1                  1                       0            177977   \n",
       "2                  1                       0            177977   \n",
       "3                  1                       0            177977   \n",
       "4                  1                       0            177977   \n",
       "\n",
       "   Dst_IP_Frequency  Is_Inbound  \n",
       "0               344           0  \n",
       "1               344           0  \n",
       "2               882           0  \n",
       "3               575           0  \n",
       "4               344           0  \n",
       "\n",
       "[5 rows x 97 columns]"
      ]
     },
     "execution_count": 10,
     "metadata": {},
     "output_type": "execute_result"
    }
   ],
   "source": [
    "df= pd.read_csv('cleaned_df.csv')\n",
    "df.head()"
   ]
  },
  {
   "cell_type": "code",
   "execution_count": 11,
   "metadata": {},
   "outputs": [],
   "source": [
    "label_encoder = LabelEncoder()\n",
    "df['Label'] = label_encoder.fit_transform(df['Label'])\n"
   ]
  },
  {
   "cell_type": "code",
   "execution_count": 12,
   "metadata": {},
   "outputs": [],
   "source": [
    "X = df.drop('Label', axis=1)\n",
    "y = df['Label']"
   ]
  },
  {
   "cell_type": "code",
   "execution_count": 13,
   "metadata": {},
   "outputs": [],
   "source": [
    "from sklearn.preprocessing import MinMaxScaler, LabelEncoder\n",
    "\n",
    "scaler = MinMaxScaler()\n",
    "X_scaled = scaler.fit_transform(X)"
   ]
  },
  {
   "cell_type": "code",
   "execution_count": 14,
   "metadata": {},
   "outputs": [],
   "source": [
    "y_encoded = to_categorical(y)"
   ]
  },
  {
   "cell_type": "code",
   "execution_count": 15,
   "metadata": {},
   "outputs": [],
   "source": [
    "X_train, X_test, y_train, y_test = train_test_split(X_scaled, y_encoded, test_size=0.2, random_state=42)"
   ]
  },
  {
   "cell_type": "code",
   "execution_count": 18,
   "metadata": {},
   "outputs": [
    {
     "data": {
      "text/plain": [
       "(392034, 96)"
      ]
     },
     "execution_count": 18,
     "metadata": {},
     "output_type": "execute_result"
    }
   ],
   "source": [
    "X.shape\n"
   ]
  },
  {
   "cell_type": "code",
   "execution_count": 16,
   "metadata": {},
   "outputs": [],
   "source": [
    "X_train = X_train.reshape((X_train.shape[0], 1, X_train.shape[1]))\n",
    "X_test = X_test.reshape((X_test.shape[0], 1, X_test.shape[1]))\n"
   ]
  },
  {
   "cell_type": "code",
   "execution_count": 17,
   "metadata": {},
   "outputs": [
    {
     "data": {
      "text/plain": [
       "(313627, 1, 96)"
      ]
     },
     "execution_count": 17,
     "metadata": {},
     "output_type": "execute_result"
    }
   ],
   "source": [
    "X_train.shape"
   ]
  },
  {
   "cell_type": "code",
   "execution_count": 19,
   "metadata": {},
   "outputs": [
    {
     "name": "stderr",
     "output_type": "stream",
     "text": [
      "c:\\Python312\\Lib\\site-packages\\keras\\src\\layers\\rnn\\rnn.py:204: UserWarning: Do not pass an `input_shape`/`input_dim` argument to a layer. When using Sequential models, prefer using an `Input(shape)` object as the first layer in the model instead.\n",
      "  super().__init__(**kwargs)\n"
     ]
    }
   ],
   "source": [
    "ltsm = Sequential()\n",
    "ltsm.add(LSTM(64, input_shape=(X_train.shape[1], X_train.shape[2]), activation='relu'))\n",
    "ltsm.add(Dropout(0.2))\n",
    "ltsm.add(Dense(32, activation='relu'))\n",
    "ltsm.add(Dense(y_train.shape[1], activation='softmax'))\n"
   ]
  },
  {
   "cell_type": "code",
   "execution_count": 20,
   "metadata": {},
   "outputs": [],
   "source": [
    "ltsm.compile(optimizer='adam', loss='categorical_crossentropy', metrics=['accuracy'])\n"
   ]
  },
  {
   "cell_type": "code",
   "execution_count": 21,
   "metadata": {},
   "outputs": [
    {
     "name": "stdout",
     "output_type": "stream",
     "text": [
      "Epoch 1/20\n",
      "4901/4901 - 14s - 3ms/step - accuracy: 0.6472 - loss: 0.8705 - val_accuracy: 0.7496 - val_loss: 0.5341\n",
      "Epoch 2/20\n",
      "4901/4901 - 11s - 2ms/step - accuracy: 0.7514 - loss: 0.5342 - val_accuracy: 0.7914 - val_loss: 0.4349\n",
      "Epoch 3/20\n",
      "4901/4901 - 12s - 2ms/step - accuracy: 0.7727 - loss: 0.4692 - val_accuracy: 0.7996 - val_loss: 0.3980\n",
      "Epoch 4/20\n",
      "4901/4901 - 12s - 2ms/step - accuracy: 0.7847 - loss: 0.4325 - val_accuracy: 0.8098 - val_loss: 0.3707\n",
      "Epoch 5/20\n",
      "4901/4901 - 11s - 2ms/step - accuracy: 0.7925 - loss: 0.4113 - val_accuracy: 0.8188 - val_loss: 0.3545\n",
      "Epoch 6/20\n",
      "4901/4901 - 11s - 2ms/step - accuracy: 0.7971 - loss: 0.3980 - val_accuracy: 0.8179 - val_loss: 0.3430\n",
      "Epoch 7/20\n",
      "4901/4901 - 12s - 2ms/step - accuracy: 0.8007 - loss: 0.3892 - val_accuracy: 0.8221 - val_loss: 0.3379\n",
      "Epoch 8/20\n",
      "4901/4901 - 12s - 2ms/step - accuracy: 0.8041 - loss: 0.3809 - val_accuracy: 0.8261 - val_loss: 0.3320\n",
      "Epoch 9/20\n",
      "4901/4901 - 12s - 2ms/step - accuracy: 0.8065 - loss: 0.3739 - val_accuracy: 0.8252 - val_loss: 0.3278\n",
      "Epoch 10/20\n",
      "4901/4901 - 12s - 2ms/step - accuracy: 0.8097 - loss: 0.3677 - val_accuracy: 0.8274 - val_loss: 0.3347\n",
      "Epoch 11/20\n",
      "4901/4901 - 11s - 2ms/step - accuracy: 0.8118 - loss: 0.3623 - val_accuracy: 0.8262 - val_loss: 0.3181\n",
      "Epoch 12/20\n",
      "4901/4901 - 11s - 2ms/step - accuracy: 0.8129 - loss: 0.3577 - val_accuracy: 0.8276 - val_loss: 0.3206\n",
      "Epoch 13/20\n",
      "4901/4901 - 12s - 2ms/step - accuracy: 0.8155 - loss: 0.3529 - val_accuracy: 0.8296 - val_loss: 0.3110\n",
      "Epoch 14/20\n",
      "4901/4901 - 12s - 2ms/step - accuracy: 0.8164 - loss: 0.3494 - val_accuracy: 0.8350 - val_loss: 0.3115\n",
      "Epoch 15/20\n",
      "4901/4901 - 11s - 2ms/step - accuracy: 0.8185 - loss: 0.3465 - val_accuracy: 0.8288 - val_loss: 0.3154\n",
      "Epoch 16/20\n",
      "4901/4901 - 12s - 2ms/step - accuracy: 0.8185 - loss: 0.3439 - val_accuracy: 0.8376 - val_loss: 0.3112\n",
      "Epoch 17/20\n",
      "4901/4901 - 12s - 2ms/step - accuracy: 0.8203 - loss: 0.3407 - val_accuracy: 0.8345 - val_loss: 0.3068\n",
      "Epoch 18/20\n",
      "4901/4901 - 13s - 3ms/step - accuracy: 0.8201 - loss: 0.3386 - val_accuracy: 0.8347 - val_loss: 0.3051\n",
      "Epoch 19/20\n",
      "4901/4901 - 12s - 3ms/step - accuracy: 0.8221 - loss: 0.3371 - val_accuracy: 0.8368 - val_loss: 0.3050\n",
      "Epoch 20/20\n",
      "4901/4901 - 12s - 2ms/step - accuracy: 0.8222 - loss: 0.3359 - val_accuracy: 0.8334 - val_loss: 0.3082\n"
     ]
    }
   ],
   "source": [
    "history = ltsm.fit(X_train, y_train, epochs=20, batch_size=64, validation_data=(X_test, y_test), verbose=2)"
   ]
  },
  {
   "cell_type": "code",
   "execution_count": 23,
   "metadata": {},
   "outputs": [
    {
     "name": "stdout",
     "output_type": "stream",
     "text": [
      "2451/2451 - 3s - 1ms/step - accuracy: 0.8334 - loss: 0.3082\n",
      "\u001b[1m2451/2451\u001b[0m \u001b[32m━━━━━━━━━━━━━━━━━━━━\u001b[0m\u001b[37m\u001b[0m \u001b[1m4s\u001b[0m 1ms/step\n"
     ]
    }
   ],
   "source": [
    "results = ltsm.evaluate(X_test, y_test, verbose=2)\n",
    "y_pred_prob = ltsm.predict(X_test)  # Get the predicted probabilities\n",
    "y_pred = (y_pred_prob > 0.5).astype(int)  "
   ]
  },
  {
   "cell_type": "code",
   "execution_count": 28,
   "metadata": {},
   "outputs": [
    {
     "name": "stdout",
     "output_type": "stream",
     "text": [
      "Restored Model Test Loss: 0.30824461579322815\n",
      "Restored Model Test Accuracy: 0.833433210849762\n",
      "F1 Score: 0.8291553892585495\n",
      "ROC AUC Score: 0.9900731498558166\n"
     ]
    }
   ],
   "source": [
    "f1 = f1_score(y_test, y_pred, average='weighted')\n",
    "roc_auc = roc_auc_score(y_test, y_pred_prob, multi_class='ovr', average='weighted')\n",
    "\n",
    "print(f\"Restored Model Test Loss: {results[0]}\")\n",
    "print(f\"Restored Model Test Accuracy: {results[1]}\")\n",
    "\n",
    "print(f\"F1 Score: {f1}\")\n",
    "print(f\"ROC AUC Score: {roc_auc}\")"
   ]
  }
 ],
 "metadata": {
  "kernelspec": {
   "display_name": "Python 3",
   "language": "python",
   "name": "python3"
  },
  "language_info": {
   "codemirror_mode": {
    "name": "ipython",
    "version": 3
   },
   "file_extension": ".py",
   "mimetype": "text/x-python",
   "name": "python",
   "nbconvert_exporter": "python",
   "pygments_lexer": "ipython3",
   "version": "3.12.2"
  }
 },
 "nbformat": 4,
 "nbformat_minor": 2
}
